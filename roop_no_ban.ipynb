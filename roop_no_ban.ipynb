{
  "nbformat": 4,
  "nbformat_minor": 0,
  "metadata": {
    "colab": {
      "provenance": [],
      "gpuType": "T4"
    },
    "kernelspec": {
      "name": "python3",
      "display_name": "Python 3"
    },
    "language_info": {
      "name": "python"
    },
    "accelerator": "GPU"
  },
  "cells": [
    {
      "cell_type": "code",
      "source": [
        "#@title Download From public drive link\n",
        "import gdown\n",
        "import os\n",
        "def download_file(file_id, output_file):\n",
        "    base_path = os.path.dirname(output_file)\n",
        "    if not os.path.exists(base_path):\n",
        "      os.makedirs(base_path)\n",
        "    url = f'https://drive.google.com/uc?id={file_id}'\n",
        "    gdown.download(url, output_file, quiet=False)\n",
        "drive_id = \"1-0QI7jHuJ7hkjfsdhkjfhkasdfk\"  # @param {type: \"string\"}\n",
        "download_file(drive_id, '/content/roop.zip')\n",
        "zip_path='/content/roop.zip'"
      ],
      "metadata": {
        "cellView": "form",
        "id": "c_KQ8uAzuLyf"
      },
      "execution_count": null,
      "outputs": []
    },
    {
      "cell_type": "markdown",
      "source": [
        "#or"
      ],
      "metadata": {
        "id": "JA4-sFlEuX7W"
      }
    },
    {
      "cell_type": "code",
      "source": [
        "#@title Access it from your google Dive (Private)\n",
        "from google.colab import drive\n",
        "import os\n",
        "drive.mount('/content/gdrive')\n",
        "from IPython.display import clear_output\n",
        "clear_output()\n",
        "if os.path.exists(\"/content/gdrive/MyDrive/RoopFaceSwap_Backup/roop.zip\"):\n",
        "  zip_path=\"/content/gdrive/MyDrive/RoopFaceSwap_Backup/roop.zip\"\n",
        "else:\n",
        "  print(\"Can't find roop.zip\")\n",
        "\n",
        "if not os.path.exists(\"/content/gdrive/MyDrive/video\"):\n",
        "  os.mkdir(\"/content/gdrive/MyDrive/video\")"
      ],
      "metadata": {
        "cellView": "form",
        "id": "UtrNZGGbuPXt"
      },
      "execution_count": null,
      "outputs": []
    },
    {
      "cell_type": "code",
      "source": [
        "#@title Extract zip file\n",
        "import zipfile\n",
        "import os\n",
        "def extract_zip(zip_file_path,extract_path):\n",
        "    # Create the extraction directory if it doesn't exist\n",
        "    os.makedirs(extract_path, exist_ok=True)\n",
        "\n",
        "    # Open the ZIP file\n",
        "    with zipfile.ZipFile(zip_file_path, 'r') as zip_ref:\n",
        "        # Extract all contents to the specified directory\n",
        "        zip_ref.extractall(extract_path)\n",
        "\n",
        "    print(f\"Contents of '{zip_file_path}' extracted to '{extract_path}'.\")\n",
        "\n",
        "extract_zip(zip_path,'/content/roop')"
      ],
      "metadata": {
        "colab": {
          "base_uri": "https://localhost:8080/"
        },
        "cellView": "form",
        "id": "K2k_y6tK0qPi",
        "outputId": "573c8594-0055-4121-be15-07251db1da22"
      },
      "execution_count": null,
      "outputs": [
        {
          "output_type": "stream",
          "name": "stdout",
          "text": [
            "Contents of '/content/gdrive/MyDrive/RoopFaceSwap_Backup/roop.zip' extracted to '/content/roop'.\n"
          ]
        }
      ]
    },
    {
      "cell_type": "code",
      "source": [
        "#@title Install and restart\n",
        "!pip install https://github.com/karaokenerds/python-audio-separator/releases/download/v0.12.1/onnxruntime_gpu-1.17.0-cp310-cp310-linux_x86_64.whl\n",
        "!pip install -r /content/roop/requirements-colab.txt\n",
        "from IPython.display import clear_output\n",
        "clear_output()\n",
        "import time\n",
        "time.sleep(3)\n",
        "import os\n",
        "os.kill(os.getpid(), 9)"
      ],
      "metadata": {
        "cellView": "form",
        "id": "8ec08nMF9g_d"
      },
      "execution_count": null,
      "outputs": []
    },
    {
      "cell_type": "code",
      "source": [
        "# @title ##**Choose option** { display-mode: \"form\" }\n",
        "choose= \"upload_now\" #@param ['upload_now','already_uploaded_in_drive']\n",
        "import os\n",
        "from google.colab import drive\n",
        "folder_path = \"/content/gdrive/MyDrive/video\"\n",
        "\n",
        "\n",
        "from google.colab import files\n",
        "import shutil\n",
        "\n",
        "upload_folder = '/content/user_upload'\n",
        "\n",
        "if not os.path.exists(upload_folder):\n",
        "    os.mkdir(upload_folder)\n",
        "upload_video=[]\n",
        "if choose== \"upload_now\":\n",
        "  uploaded = files.upload()\n",
        "  for filename in uploaded.keys():\n",
        "    dst_path = os.path.join(upload_folder, filename)\n",
        "    print(f'move {filename} to {dst_path}')\n",
        "    shutil.move(filename, dst_path)\n",
        "    upload_video.append(dst_path)\n",
        "    clear_output()\n",
        "    print(upload_video[-1])\n",
        "\n",
        "\n",
        "if choose== \"already_uploaded_in_drive\":\n",
        "  drive.mount('/content/gdrive')\n",
        "  clear_output()\n",
        "  if not os.path.exists(\"/content/gdrive/MyDrive/video\"):\n",
        "    os.mkdir(\"/content/gdrive/MyDrive/video\")\n",
        "  video_id=1\n",
        "  table={}\n",
        "  ids=[]\n",
        "  videos=[]\n",
        "  id_monitor={}\n",
        "  video_folder=\"/content/gdrive/MyDrive/video\"\n",
        "  for i in os.listdir(video_folder):\n",
        "    ids.append(video_id)\n",
        "    videos.append(i)\n",
        "    id_monitor[video_id]=i\n",
        "    video_id=video_id+1\n",
        "  table[\"file_name\"]=videos\n",
        "  table[\"file_id\"]=ids\n",
        "  import pandas as pd\n",
        "  df = pd.DataFrame(table)\n",
        "  try:\n",
        "    df.set_index('file_id', inplace=True)\n",
        "  except:\n",
        "    pass\n",
        "  print(df)\n",
        "  print(\"\\n\")\n",
        "  print(\"Note the File Id\")\n"
      ],
      "metadata": {
        "id": "DsFo2iqnuls2"
      },
      "execution_count": null,
      "outputs": []
    },
    {
      "cell_type": "code",
      "source": [
        "# @title ##**leave blank if you selected 'upload_now'** { display-mode: \"form\" }\n",
        "\n",
        "if choose == \"already_uploaded_in_drive\":\n",
        "    video_id = ''  # @param {type: \"string\"}\n",
        "    if len(video_id) == 0:\n",
        "        print(\"Enter Video ID\")\n",
        "    else:\n",
        "        video_id = int(video_id)\n",
        "        if video_id < len(id_monitor)+1:\n",
        "            target_video_path = \"/content/gdrive/MyDrive/video/\" + id_monitor[video_id]\n",
        "        else:\n",
        "            print(\"Invalid Video ID\")\n",
        "            target_video_path = ''\n",
        "else:\n",
        "    target_video_path = upload_video[-1]\n",
        "import uuid\n",
        "\n",
        "def get_video_save_path(file_path):\n",
        "    # Generate a UUID4\n",
        "    unique_id = uuid.uuid4()\n",
        "    # Convert UUID to a hexadecimal string and remove hyphens\n",
        "    hex_string = unique_id.hex\n",
        "    # Take the first 5 characters\n",
        "    truncated_hex = hex_string[:6]\n",
        "    base_name = os.path.basename(file_path)\n",
        "    name, extension = os.path.splitext(base_name)\n",
        "    save_path=f\"/content/gdrive/MyDrive/video/roop_{name}_{str(truncated_hex)}{extension}\"\n",
        "    return save_path\n",
        "\n",
        "if target_video_path:\n",
        "    import shutil\n",
        "    try:\n",
        "        shutil.copy(target_video_path, \"/content/input.mp4\")\n",
        "        video_save_path=get_video_save_path(target_video_path)\n",
        "        print(f\"Using {target_video_path}\")\n",
        "    except FileNotFoundError:\n",
        "        print(f\"Error: File not found at {target_video_path}\")\n",
        "else:\n",
        "    print(\"No valid video_path specified.\")\n"
      ],
      "metadata": {
        "colab": {
          "base_uri": "https://localhost:8080/"
        },
        "id": "UuiQ8MNt4xKo",
        "outputId": "aa881db0-686f-455d-dc47-8dcc65d0140e"
      },
      "execution_count": null,
      "outputs": [
        {
          "output_type": "stream",
          "name": "stdout",
          "text": [
            "Using /content/user_upload/WIN_20240111_18_28_37_Pro.mp4\n"
          ]
        }
      ]
    },
    {
      "cell_type": "code",
      "source": [
        "#@title Upload Source Image (Whose face you want to copy)\n",
        "import os\n",
        "from google.colab import files\n",
        "import shutil\n",
        "\n",
        "upload_folder = '/content/user_upload'\n",
        "\n",
        "if not os.path.exists(upload_folder):\n",
        "    os.mkdir(upload_folder)\n",
        "target_person=[]\n",
        "uploaded = files.upload()\n",
        "for filename in uploaded.keys():\n",
        "  dst_path = os.path.join(upload_folder, filename)\n",
        "  print(f'move {filename} to {dst_path}')\n",
        "  shutil.move(filename, dst_path)\n",
        "  target_person.append(dst_path)\n",
        "\n",
        "from IPython.display import clear_output\n",
        "clear_output()\n",
        "target_person[-1]"
      ],
      "metadata": {
        "colab": {
          "base_uri": "https://localhost:8080/",
          "height": 36
        },
        "cellView": "form",
        "id": "jVIpCjtf17EK",
        "outputId": "2b3a163b-2fc3-43c1-a3af-f7a3a07cce2a"
      },
      "execution_count": null,
      "outputs": [
        {
          "output_type": "execute_result",
          "data": {
            "text/plain": [
              "'/content/user_upload/SnoopDogg.jpg'"
            ],
            "application/vnd.google.colaboratory.intrinsic+json": {
              "type": "string"
            }
          },
          "metadata": {},
          "execution_count": 4
        }
      ]
    },
    {
      "cell_type": "code",
      "source": [
        "Source_Image = \"/content/user_upload/SnoopDogg.jpg\"  # @param {type: \"string\"}\n",
        "import matplotlib.pyplot as plt\n",
        "import matplotlib.image as mpimg\n",
        "def display_image(image_path):\n",
        "    # Read the image using matplotlib.image.imread\n",
        "    img = mpimg.imread(image_path)\n",
        "\n",
        "    # Display the image using matplotlib.pyplot.imshow\n",
        "    plt.imshow(img)\n",
        "    plt.axis('off')  # Turn off axis labels\n",
        "    plt.show()\n",
        "display_image(Source_Image)"
      ],
      "metadata": {
        "cellView": "form",
        "id": "B8BYoAdk2s1Z"
      },
      "execution_count": null,
      "outputs": []
    },
    {
      "cell_type": "code",
      "execution_count": null,
      "metadata": {
        "cellView": "form",
        "id": "xlpipjrit5Rz"
      },
      "outputs": [],
      "source": [
        "#@title Copy and Run\n",
        "%cd /content/roop\n",
        "from IPython.display import clear_output\n",
        "clear_output()\n",
        "command=f\"!python run.py --target /content/input.mp4 --source {Source_Image} -o {video_save_path} --execution-provider cuda --frame-processor face_swapper face_enhancer\"\n",
        "command"
      ]
    },
    {
      "cell_type": "code",
      "source": [],
      "metadata": {
        "id": "DSWIg-va9awM"
      },
      "execution_count": null,
      "outputs": []
    }
  ]
}